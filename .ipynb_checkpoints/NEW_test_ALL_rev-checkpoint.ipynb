{
 "cells": [
  {
   "cell_type": "code",
   "execution_count": 3,
   "id": "21a80c55",
   "metadata": {},
   "outputs": [],
   "source": [
    "from sent2vec.vectorizer import Vectorizer"
   ]
  },
  {
   "cell_type": "code",
   "execution_count": null,
   "id": "60b7748b",
   "metadata": {},
   "outputs": [],
   "source": [
    "sentences = [\n",
    "    \"这是一本学习 NLP 的好书\",\n",
    "    \"DistilBERT 是一个了不起的 NLP 模型\",\n",
    "    \"我们可以交替使用嵌入、编码或矢量化。\",\n",
    "]"
   ]
  },
  {
   "cell_type": "code",
   "execution_count": null,
   "id": "dc72bcf7",
   "metadata": {},
   "outputs": [],
   "source": [
    "vectorizer = Vectorizer()"
   ]
  },
  {
   "cell_type": "code",
   "execution_count": null,
   "id": "9a9d7ff7",
   "metadata": {
    "scrolled": true
   },
   "outputs": [],
   "source": [
    "vectorizer = Vectorizer(pretrained_weights=\"bert-base-multilingual-cased\")"
   ]
  },
  {
   "cell_type": "code",
   "execution_count": null,
   "id": "1abb402c",
   "metadata": {},
   "outputs": [],
   "source": [
    "vectorizer.run(sentences)"
   ]
  },
  {
   "cell_type": "code",
   "execution_count": null,
   "id": "cf79d737",
   "metadata": {},
   "outputs": [],
   "source": [
    "vectorizer.vectors"
   ]
  },
  {
   "cell_type": "code",
   "execution_count": null,
   "id": "95fcc87c",
   "metadata": {},
   "outputs": [],
   "source": [
    "len(vectorizer.vectors)"
   ]
  },
  {
   "cell_type": "code",
   "execution_count": null,
   "id": "e709963e",
   "metadata": {},
   "outputs": [],
   "source": []
  },
  {
   "cell_type": "code",
   "execution_count": null,
   "id": "ffdc4c68",
   "metadata": {},
   "outputs": [],
   "source": [
    "new_sentences = [\n",
    "    \"This is an awesome book to learn NLP.\",\n",
    "    \"DistilBERT is an amazing NLP model.\",\n",
    "    \"We can interchangeably use embedding, encoding, or vectorizing.\",\n",
    "]"
   ]
  },
  {
   "cell_type": "code",
   "execution_count": null,
   "id": "30be9ee5",
   "metadata": {},
   "outputs": [],
   "source": [
    "vectorizer.run(sentences)"
   ]
  },
  {
   "cell_type": "code",
   "execution_count": null,
   "id": "6c8a1d17",
   "metadata": {},
   "outputs": [],
   "source": [
    "len(vectorizer.vectors)"
   ]
  },
  {
   "cell_type": "code",
   "execution_count": null,
   "id": "0e3bed20",
   "metadata": {},
   "outputs": [],
   "source": [
    "vectorizer.vectors"
   ]
  },
  {
   "cell_type": "code",
   "execution_count": null,
   "id": "482a8f8c",
   "metadata": {},
   "outputs": [],
   "source": [
    "sentences = [\n",
    "    \"This is an awesome book to learn NLP.\",\n",
    "    \"DistilBERT is an amazing NLP model.\",\n",
    "    \"We can interchangeably use embedding, encoding, or vectorizing.\",\n",
    "]\n"
   ]
  },
  {
   "cell_type": "code",
   "execution_count": null,
   "id": "cb9f6ff0",
   "metadata": {},
   "outputs": [],
   "source": [
    "vectorizer = Vectorizer()"
   ]
  },
  {
   "cell_type": "code",
   "execution_count": null,
   "id": "5b81f3c2",
   "metadata": {},
   "outputs": [],
   "source": [
    "vectorizer.run(sentences)"
   ]
  },
  {
   "cell_type": "code",
   "execution_count": 1,
   "id": "f5d146d9",
   "metadata": {},
   "outputs": [
    {
     "ename": "NameError",
     "evalue": "name 'vectorizer' is not defined",
     "output_type": "error",
     "traceback": [
      "\u001b[1;31m---------------------------------------------------------------------------\u001b[0m",
      "\u001b[1;31mNameError\u001b[0m                                 Traceback (most recent call last)",
      "\u001b[1;32m~\\AppData\\Local\\Temp/ipykernel_17860/1732192080.py\u001b[0m in \u001b[0;36m<module>\u001b[1;34m\u001b[0m\n\u001b[1;32m----> 1\u001b[1;33m \u001b[0mvectors\u001b[0m \u001b[1;33m=\u001b[0m \u001b[0mvectorizer\u001b[0m\u001b[1;33m.\u001b[0m\u001b[0mvectors\u001b[0m\u001b[1;33m\u001b[0m\u001b[1;33m\u001b[0m\u001b[0m\n\u001b[0m",
      "\u001b[1;31mNameError\u001b[0m: name 'vectorizer' is not defined"
     ]
    }
   ],
   "source": [
    "vectors = vectorizer.vectors"
   ]
  },
  {
   "cell_type": "code",
   "execution_count": null,
   "id": "23d36f57",
   "metadata": {},
   "outputs": [],
   "source": [
    "from scipy import spatial\n",
    "\n",
    "dist_1 = spatial.distance.cosine(vectors[0], vectors[1])\n",
    "dist_2 = spatial.distance.cosine(vectors[0], vectors[2])\n",
    "print('dist_1: {0}, dist_2: {1}'.format(dist_1, dist_2))\n",
    "assert dist_1 < dist_2\n",
    "# dist_1: 0.043, dist_2: 0.192"
   ]
  },
  {
   "cell_type": "code",
   "execution_count": 6,
   "id": "f0e42ecb",
   "metadata": {},
   "outputs": [],
   "source": [
    "from gensim.test.utils import get_tmpfile\n",
    "from gensim.scripts.glove2word2vec import glove2word2vec"
   ]
  },
  {
   "cell_type": "code",
   "execution_count": 7,
   "id": "a51e1916",
   "metadata": {},
   "outputs": [
    {
     "data": {
      "text/plain": [
       "(400001, 300)"
      ]
     },
     "execution_count": 7,
     "metadata": {},
     "output_type": "execute_result"
    }
   ],
   "source": [
    "glove_file = '~/gensim-data/glove.6B.300d.txt'\n",
    "word2vec_glove_file = get_tmpfile(\"glove.6B.300d.word2vec.txt\")\n",
    "glove2word2vec(glove_file, word2vec_glove_file)"
   ]
  },
  {
   "cell_type": "code",
   "execution_count": 9,
   "id": "64682a41",
   "metadata": {},
   "outputs": [
    {
     "name": "stdout",
     "output_type": "stream",
     "text": [
      "Initializing word2vec with vector path C:\\Users\\maren\\AppData\\Local\\Temp\\glove.6B.300d.word2vec.txt\n"
     ]
    }
   ],
   "source": [
    "vectorizer = Vectorizer(pretrained_weights= word2vec_glove_file)"
   ]
  },
  {
   "cell_type": "code",
   "execution_count": 9,
   "id": "26232beb",
   "metadata": {},
   "outputs": [],
   "source": [
    "newer_sentences = [\n",
    "    \"Alice is in the Wonderland.\",\n",
    "    \"Alice is not in the Wonderland.\",\n",
    "]"
   ]
  },
  {
   "cell_type": "code",
   "execution_count": 11,
   "id": "e4a4cccb",
   "metadata": {},
   "outputs": [],
   "source": [
    "vectorizer.run(newer_sentences)"
   ]
  },
  {
   "cell_type": "code",
   "execution_count": 12,
   "id": "18fda0d8",
   "metadata": {},
   "outputs": [
    {
     "data": {
      "text/plain": [
       "[array([-4.27439988e-01, -4.19315010e-01, -4.28939998e-01, -2.59350017e-02,\n",
       "         3.12846005e-01,  1.55960992e-01, -1.67018995e-01, -4.11780000e-01,\n",
       "        -3.46530020e-01,  2.30839998e-01,  1.57619998e-01, -6.13240004e-01,\n",
       "         1.79765999e-01, -6.37789965e-02, -2.55315006e-01, -4.32579994e-01,\n",
       "        -1.03537500e-01, -1.68180019e-01,  9.17724967e-02,  1.95282996e-01,\n",
       "        -2.42060006e-01,  4.69330013e-01, -2.59290010e-01,  3.89389992e-01,\n",
       "         9.35645029e-02,  4.15084988e-01,  1.59585506e-01, -4.32949960e-02,\n",
       "        -2.16055006e-01, -4.06809986e-01,  2.69656003e-01,  3.32610011e-01,\n",
       "         2.65060008e-01,  2.47195005e-01, -1.09889999e-01,  7.32625008e-01,\n",
       "        -6.08444959e-02,  2.01460004e-01, -5.05609989e-01, -5.16160011e-01,\n",
       "        -2.03024983e-01,  1.45130008e-01, -2.82990992e-01,  6.49700016e-02,\n",
       "         2.88850032e-02,  2.60935009e-01, -2.60060012e-01, -5.11700027e-02,\n",
       "        -1.24358796e-01,  5.17395020e-01, -1.08715005e-01,  3.70375007e-01,\n",
       "         2.97439992e-01,  4.83855009e-01, -5.78664988e-02,  2.18394995e-01,\n",
       "         8.47149938e-02,  1.39220506e-01, -1.31049991e-01, -8.37199911e-02,\n",
       "        -1.66680008e-01,  1.10000372e-04,  2.14692488e-01,  2.71799862e-02,\n",
       "         8.75540003e-02, -5.00700027e-02, -4.72950041e-02, -4.56645012e-01,\n",
       "         3.79999727e-03,  1.77549943e-02, -1.95600495e-01, -2.27600008e-01,\n",
       "        -1.21803634e-01, -3.40725005e-01, -4.59490001e-01, -1.13954499e-01,\n",
       "         4.86559987e-01,  1.05924997e-02,  1.28108501e-01, -7.59925008e-01,\n",
       "        -1.58424497e-01,  3.62829983e-01,  5.77380002e-01, -4.92950022e-01,\n",
       "        -1.88331991e-01, -2.25255013e-01,  5.15754998e-01,  2.49562010e-01,\n",
       "         4.64574993e-01, -5.46764970e-01, -4.64920014e-01, -6.16139993e-02,\n",
       "        -1.08020008e-01, -1.39022008e-01, -2.42236495e-01,  1.11204505e-01,\n",
       "        -9.90294963e-02, -2.72446990e-01, -3.42005014e-01, -4.19239998e-01,\n",
       "         6.11649975e-02,  4.97799963e-02, -6.03139997e-01,  3.09756994e-01,\n",
       "        -4.79259998e-01,  3.24540019e-01,  2.13599503e-01,  1.78511009e-01,\n",
       "         5.82215011e-01,  2.26539999e-01,  2.43974999e-02,  2.66163975e-01,\n",
       "         5.56784987e-01,  7.59109974e-01,  4.01960015e-01, -3.13539982e-01,\n",
       "        -1.73289999e-01,  2.75054991e-01, -1.45050541e-01, -1.07144997e-01,\n",
       "        -4.38804999e-02,  4.51389998e-01, -2.81615019e-01, -2.67444998e-01,\n",
       "         1.86295003e-01, -3.96120012e-01, -4.74139988e-01,  9.09924954e-02,\n",
       "        -1.72739998e-01, -1.57736510e-01, -4.38525021e-01,  4.61875021e-01,\n",
       "         1.72454998e-01,  2.67875016e-01, -4.51964974e-01, -1.01104006e-01,\n",
       "         1.84325010e-01,  7.83684969e-01, -6.21959984e-01,  8.99619982e-02,\n",
       "        -2.40339994e-01,  3.79244983e-01, -4.85054016e-01,  7.53699988e-02,\n",
       "         5.55585027e-01, -4.51534986e-01, -2.30180010e-01, -2.15470001e-01,\n",
       "        -7.07900003e-02, -2.38030002e-01, -3.93199921e-02,  2.02210009e-01,\n",
       "        -1.98129997e-01,  2.30295002e-01,  3.64270002e-01, -1.36830002e-01,\n",
       "        -2.80804992e-01, -4.53505009e-01, -3.89975011e-01, -6.36374950e-02,\n",
       "         2.76735008e-01, -9.13545042e-02,  3.90635014e-01, -5.33940017e-01,\n",
       "        -1.42935500e-01,  3.40085000e-01,  1.50149912e-02,  7.53700081e-03,\n",
       "        -2.25854993e-01,  2.55879998e-01, -2.69304991e-01,  4.95244980e-01,\n",
       "         3.59004974e-01,  6.12365007e-01, -4.86985028e-01,  2.48310000e-01,\n",
       "         3.79000604e-03, -1.31068856e-01,  4.85799909e-02, -1.68423489e-01,\n",
       "        -1.59997493e-04,  3.60754997e-01,  6.35760009e-01,  2.73955017e-02,\n",
       "         5.86245000e-01,  3.70525002e-01,  8.84799957e-02, -3.24710011e-01,\n",
       "         1.51410505e-01, -2.36613497e-01, -1.15826495e-01, -3.98918480e-01,\n",
       "         7.81449974e-02, -3.62160027e-01, -7.46809959e-01,  2.31694996e-01,\n",
       "        -4.31500003e-03,  1.32959992e-01, -3.72449994e-01, -1.86924972e-02,\n",
       "         9.22795057e-01, -1.89184994e-01,  1.16310753e-01,  3.13760012e-01,\n",
       "         9.92144942e-02,  1.95431501e-01,  2.71189988e-01, -3.50059986e-01,\n",
       "         1.47744998e-01, -5.16704977e-01, -5.96305013e-01, -1.68900043e-02,\n",
       "         2.60405004e-01,  4.15350050e-02, -8.15699995e-02,  1.80384994e-01,\n",
       "         8.50284994e-02, -4.81650010e-02, -3.64563987e-02, -2.39572003e-01,\n",
       "        -3.05400014e-01, -9.53495055e-02, -4.80504513e-01, -1.82889998e-01,\n",
       "         4.15899977e-02,  2.62117505e-01,  2.43248001e-01, -1.38604999e-01,\n",
       "        -3.94954979e-02, -4.14449990e-01,  2.93734998e-01, -1.48184001e-01,\n",
       "        -8.03694963e-01, -3.92205000e-01, -2.15699971e-02,  2.64564991e-01,\n",
       "         1.44651502e-01,  2.21448109e-01, -8.15590024e-02, -1.39880002e-01,\n",
       "         1.11840013e-02, -1.89235002e-01, -1.36069998e-01, -3.19759995e-01,\n",
       "        -3.29374969e-02,  7.12149888e-02, -1.34225994e-01, -1.64275005e-01,\n",
       "        -8.49089921e-02,  2.93035001e-01, -3.90074998e-01, -2.96900004e-01,\n",
       "         2.26070508e-01,  2.99324989e-01,  7.36940026e-01, -2.48030007e-01,\n",
       "         2.49610007e-01, -5.62314987e-02,  6.20684981e-01, -4.32730019e-01,\n",
       "         3.02265018e-01, -1.55405000e-01,  3.67999077e-03, -3.93550023e-02,\n",
       "        -4.31304991e-01, -9.37375054e-02,  1.22772492e-01,  7.74594992e-02,\n",
       "         5.29070020e-01,  2.78510004e-01, -5.33454977e-02, -2.56056011e-01,\n",
       "        -3.21229994e-01, -2.26708993e-01, -1.73967510e-01, -3.22604984e-01,\n",
       "        -3.07585001e-01,  1.00275502e-01, -2.82249987e-01, -9.26984996e-02,\n",
       "        -1.43550038e-02,  3.13659996e-01, -4.86320496e-01, -3.87064993e-01,\n",
       "        -2.44890004e-01, -1.05595000e-01, -4.67210002e-02, -8.29174966e-02,\n",
       "        -2.79439986e-01, -4.58079994e-01, -7.32800066e-02, -3.97850014e-02,\n",
       "        -1.72080010e-01,  4.82988983e-01, -3.56985986e-01, -3.62680018e-01,\n",
       "        -1.54670000e-01,  4.66090024e-01,  2.91350007e-01, -2.74499506e-03],\n",
       "       dtype=float32),\n",
       " array([-2.82163233e-01, -1.83646679e-01, -3.64179999e-01, -1.05100006e-01,\n",
       "         1.89487338e-01,  1.98980644e-01, -7.76159987e-02, -2.07846656e-01,\n",
       "        -2.39136651e-01, -6.37239993e-01,  1.54656664e-01, -4.08049911e-01,\n",
       "         4.37240042e-02, -1.51843326e-02, -8.81699994e-02, -2.42113337e-01,\n",
       "        -9.09193382e-02, -1.94210008e-01,  6.52023330e-02,  2.67886613e-02,\n",
       "        -1.64082006e-01,  4.25226688e-01,  3.33166532e-02,  2.30326340e-01,\n",
       "        -5.41636683e-02,  3.09185654e-01,  1.27779335e-01, -1.49956658e-01,\n",
       "        -1.80100009e-01, -2.34293342e-01,  2.72300690e-01,  4.19739962e-01,\n",
       "         1.64497003e-01, -1.36066722e-02, -4.24693346e-01,  4.67341989e-01,\n",
       "        -5.98433316e-02,  1.48315325e-01, -2.18779996e-01, -2.69796640e-01,\n",
       "        -1.88316658e-01,  6.51369989e-02, -2.31410667e-01,  1.32156670e-01,\n",
       "         1.49090020e-02,  2.52596647e-01, -1.79581657e-01,  6.40133321e-02,\n",
       "        -1.42229185e-01,  4.02556658e-01, -5.52003384e-02,  1.40286669e-01,\n",
       "         2.35636666e-01,  2.95104355e-01, -5.91893308e-02,  3.33529979e-01,\n",
       "         1.58199966e-02,  1.79350331e-01, -2.85333339e-02, -3.37999570e-03,\n",
       "         3.48699987e-02,  4.96099889e-03,  2.35301673e-01,  1.62306666e-01,\n",
       "        -2.59173363e-02, -1.27013341e-01,  1.65659994e-01, -3.47240001e-01,\n",
       "         7.70133361e-02,  1.15583323e-01, -4.57170010e-02, -1.88076675e-01,\n",
       "        -2.65908730e-03, -1.69526652e-01, -2.82063991e-01, -6.27106652e-02,\n",
       "         4.13906664e-01,  2.29761675e-01, -2.96243336e-02, -4.81129646e-01,\n",
       "        -1.42593011e-01,  2.38804534e-01,  4.19610023e-01, -3.01952004e-01,\n",
       "        -8.70146528e-02, -1.68654010e-01,  2.00090006e-01,  2.52824664e-01,\n",
       "         3.26633006e-01, -2.82680005e-01, -5.98110020e-01,  2.31006723e-02,\n",
       "        -1.62283346e-01, -1.58731341e-01, -1.81319341e-01,  1.41436338e-01,\n",
       "        -9.71176624e-02, -8.74213278e-02, -2.72949994e-01, -3.75663370e-01,\n",
       "         6.56176656e-02,  6.42833114e-03, -4.93959993e-01,  2.17279658e-01,\n",
       "        -3.52457672e-01,  3.61896664e-01,  2.12499663e-01,  1.47411332e-01,\n",
       "         3.46170038e-01,  2.50703335e-01, -7.22516701e-02,  2.00243652e-01,\n",
       "         3.67848307e-01,  4.25373316e-01,  3.67870003e-01, -9.33266655e-02,\n",
       "        -2.58649975e-01,  8.31233338e-02, -4.30436991e-02, -1.25526667e-01,\n",
       "        -8.67436752e-02,  3.30112010e-01, -8.76266658e-02, -1.51668325e-01,\n",
       "         1.08671665e-01, -2.86349326e-01, -2.31563330e-01,  1.96808338e-01,\n",
       "        -9.23563242e-02, -7.79293403e-02, -1.95493340e-01,  3.69126678e-01,\n",
       "         2.85856694e-01,  1.09360002e-01, -3.60253334e-01, -1.72960032e-02,\n",
       "         1.49806336e-01,  4.77990001e-01, -4.59553331e-01,  2.98416670e-02,\n",
       "        -1.53300658e-01,  3.34109992e-01, -2.36436009e-01,  8.95666704e-02,\n",
       "         3.21869999e-01, -4.13813323e-01, -1.48942336e-01, -1.35236010e-01,\n",
       "        -8.28400031e-02, -7.97833428e-02, -7.71599934e-02,  6.64566681e-02,\n",
       "        -7.58133307e-02,  1.40341654e-01,  2.65366346e-01, -8.67426693e-02,\n",
       "        -2.29263350e-01, -3.96973372e-01, -1.52229995e-01, -9.66683328e-02,\n",
       "         2.10113660e-01, -1.10159673e-01,  2.62975961e-01, -3.91246676e-01,\n",
       "        -6.06903322e-02,  3.12873334e-01, -2.55800094e-02,  1.27358004e-01,\n",
       "        -1.54434338e-01,  2.15910003e-01, -6.64666668e-02,  3.37947696e-01,\n",
       "         6.78933188e-02,  3.87993336e-01, -3.03387016e-01,  1.04406662e-01,\n",
       "         9.28066671e-02,  2.37507652e-02,  1.06469996e-01,  3.13776731e-02,\n",
       "         5.38599975e-02,  3.02183330e-01,  5.55239975e-01,  4.78519984e-02,\n",
       "         2.90676683e-01,  3.25289994e-01, -1.62500143e-02, -1.44773334e-01,\n",
       "         1.45046994e-01, -1.05975665e-01, -1.04116999e-01, -2.56081671e-01,\n",
       "         1.70703337e-01, -2.72170335e-01, -4.61349994e-01,  3.06733400e-02,\n",
       "         4.60066646e-03,  1.38846651e-01, -1.51516661e-01, -1.03701659e-01,\n",
       "         9.04696703e-01, -2.54633337e-01, -2.94895042e-02,  1.94167018e-01,\n",
       "         9.60536674e-02,  9.71473455e-02,  2.39923313e-01, -1.43786669e-01,\n",
       "         5.63433319e-02, -5.40953338e-01, -4.49336648e-01, -8.43033418e-02,\n",
       "         1.75203368e-01,  9.97833386e-02, -1.40893325e-01,  1.03714339e-01,\n",
       "         9.62456688e-02,  1.02620006e-01, -8.57459847e-03, -1.39231339e-01,\n",
       "        -1.67889997e-01, -1.01419665e-01, -3.32786679e-01, -2.58726686e-01,\n",
       "         2.24680007e-02,  1.13801658e-01,  2.27805331e-01, -5.94363324e-02,\n",
       "        -9.70236659e-02, -3.37739974e-01,  2.07949683e-01, -1.38469338e-01,\n",
       "        -4.75946665e-01, -3.78046662e-01, -1.25280008e-01,  2.04348326e-01,\n",
       "         1.34860992e-01,  1.89358726e-01, -8.17230046e-02, -6.12036623e-02,\n",
       "         1.23386672e-02, -1.55322328e-01,  3.83833461e-02, -2.01231003e-01,\n",
       "        -2.31758356e-01,  1.92186654e-01,  9.69336659e-04, -1.12509005e-01,\n",
       "        -8.81229937e-02,  2.14770004e-01, -2.38942340e-01, -2.43923321e-01,\n",
       "         5.76700782e-03,  2.54233330e-01,  6.22409999e-01, -2.02189997e-01,\n",
       "         1.18233331e-01, -1.10867657e-01,  4.68973309e-01, -3.23416680e-01,\n",
       "         1.78722009e-01, -1.93470001e-01,  3.52689624e-03,  4.30166684e-02,\n",
       "        -4.16116685e-01, -2.94816699e-02,  1.31648317e-01, -4.84236628e-02,\n",
       "         3.54853868e-01,  2.56473333e-01,  5.85630052e-02, -1.57279670e-01,\n",
       "        -1.91144660e-01, -1.19824998e-01, -1.26932994e-01, -9.46799889e-02,\n",
       "        -1.11125672e+00,  6.31486699e-02, -3.58433314e-02, -4.83373292e-02,\n",
       "         8.14466700e-02,  2.41091982e-01, -3.07743669e-01, -1.16413318e-01,\n",
       "        -2.75920004e-01, -2.72666663e-02, -3.83566576e-03, -1.64749976e-02,\n",
       "        -2.28060007e-01, -3.07557821e-01, -7.98760056e-02, -1.71546683e-01,\n",
       "         6.06100075e-02,  3.19008887e-01, -1.92723989e-01, -2.84740001e-01,\n",
       "        -1.17030002e-01,  8.93600062e-02,  2.28576660e-01,  3.88033353e-02],\n",
       "       dtype=float32)]"
      ]
     },
     "execution_count": 12,
     "metadata": {},
     "output_type": "execute_result"
    }
   ],
   "source": [
    "vectorizer.vectors"
   ]
  },
  {
   "cell_type": "code",
   "execution_count": 13,
   "id": "f775a2f0",
   "metadata": {},
   "outputs": [
    {
     "data": {
      "text/plain": [
       "2"
      ]
     },
     "execution_count": 13,
     "metadata": {},
     "output_type": "execute_result"
    }
   ],
   "source": [
    "len(vectorizer.vectors)"
   ]
  },
  {
   "cell_type": "code",
   "execution_count": 14,
   "id": "f4d6f54e",
   "metadata": {},
   "outputs": [],
   "source": [
    "vectorizer.run(newer_sentences)"
   ]
  },
  {
   "cell_type": "code",
   "execution_count": 15,
   "id": "d786c2c3",
   "metadata": {},
   "outputs": [
    {
     "data": {
      "text/plain": [
       "4"
      ]
     },
     "execution_count": 15,
     "metadata": {},
     "output_type": "execute_result"
    }
   ],
   "source": [
    "len(vectorizer.vectors)"
   ]
  },
  {
   "cell_type": "code",
   "execution_count": 19,
   "id": "bc37268d",
   "metadata": {},
   "outputs": [],
   "source": [
    "vectors = vectorizer.vectors"
   ]
  },
  {
   "cell_type": "code",
   "execution_count": 20,
   "id": "fda48e45",
   "metadata": {},
   "outputs": [
    {
     "name": "stdout",
     "output_type": "stream",
     "text": [
      "dist_1: 0.10856127738952637\n"
     ]
    }
   ],
   "source": [
    "from scipy import spatial\n",
    "dist_1 = spatial.distance.cosine(vectors[0], vectors[1])\n",
    "print('dist_1: {0}'.format(dist_1))"
   ]
  },
  {
   "cell_type": "code",
   "execution_count": 1,
   "id": "f326635e",
   "metadata": {},
   "outputs": [],
   "source": [
    "from sent2vec.constants import PRETRAINED_VECTORS_PATH_WIKI, ROOT_DIR"
   ]
  },
  {
   "cell_type": "code",
   "execution_count": 50,
   "id": "5cdee27f",
   "metadata": {},
   "outputs": [
    {
     "name": "stdout",
     "output_type": "stream",
     "text": [
      "Initializing word2vec with vector path ~\\gensim-data/glove-wiki-gigaword-300\\glove-wiki-gigaword-300.gz\n"
     ]
    }
   ],
   "source": [
    "vectorizer = Vectorizer(pretrained_weights= PRETRAINED_VECTORS_PATH_WIKI)"
   ]
  },
  {
   "cell_type": "code",
   "execution_count": 51,
   "id": "ab73d635",
   "metadata": {},
   "outputs": [],
   "source": [
    "vectorizer.run(newer_sentences)"
   ]
  },
  {
   "cell_type": "code",
   "execution_count": 52,
   "id": "e72b89da",
   "metadata": {},
   "outputs": [],
   "source": [
    "vectorizer.run(newer_sentences, remove_stop_words=[])"
   ]
  },
  {
   "cell_type": "code",
   "execution_count": 53,
   "id": "557e078f",
   "metadata": {},
   "outputs": [],
   "source": [
    "vectors = vectorizer.vectors"
   ]
  },
  {
   "cell_type": "code",
   "execution_count": 57,
   "id": "550cb1ea",
   "metadata": {},
   "outputs": [
    {
     "name": "stdout",
     "output_type": "stream",
     "text": [
      "dist_1: 0.10856127738952637, dist_2: 0.0\n"
     ]
    }
   ],
   "source": [
    "from scipy import spatial\n",
    "dist_1 = spatial.distance.cosine(vectors[0], vectors[1])\n",
    "dist_2 = spatial.distance.cosine(vectors[1], vectors[3])\n",
    "print('dist_1: {0}, dist_2: {1}'.format(dist_1, dist_2))"
   ]
  },
  {
   "cell_type": "code",
   "execution_count": 30,
   "id": "2db60f7e",
   "metadata": {},
   "outputs": [
    {
     "data": {
      "text/plain": [
       "True"
      ]
     },
     "execution_count": 30,
     "metadata": {},
     "output_type": "execute_result"
    }
   ],
   "source": [
    "import spacy\n",
    "nlp = spacy.load(\"en_core_web_sm\")\n",
    "nlp.vocab['not'].is_stop"
   ]
  },
  {
   "cell_type": "code",
   "execution_count": 35,
   "id": "65fb0a63",
   "metadata": {},
   "outputs": [],
   "source": [
    "nlp.vocab['not'].is_stop = False"
   ]
  },
  {
   "cell_type": "code",
   "execution_count": 36,
   "id": "8724d046",
   "metadata": {},
   "outputs": [
    {
     "data": {
      "text/plain": [
       "False"
      ]
     },
     "execution_count": 36,
     "metadata": {},
     "output_type": "execute_result"
    }
   ],
   "source": [
    "nlp.vocab['not'].is_stop"
   ]
  },
  {
   "cell_type": "code",
   "execution_count": 24,
   "id": "08f02cda",
   "metadata": {},
   "outputs": [],
   "source": [
    "assert dist_1 == dist_2"
   ]
  },
  {
   "cell_type": "code",
   "execution_count": 58,
   "id": "dd203883",
   "metadata": {},
   "outputs": [],
   "source": [
    "from sent2vec.splitter import *\n",
    "\n",
    "newer_sentences = [\n",
    "    \"Alice is in the Wonderland.\",\n",
    "    \"Alice is not in the Wonderland.\",\n",
    "]\n",
    "\n",
    "splitter = Splitter()\n",
    "\n",
    "splitter.sent2words(newer_sentences)\n"
   ]
  },
  {
   "cell_type": "code",
   "execution_count": null,
   "id": "61d48811",
   "metadata": {},
   "outputs": [],
   "source": []
  },
  {
   "cell_type": "code",
   "execution_count": null,
   "id": "db3f2898",
   "metadata": {},
   "outputs": [],
   "source": []
  },
  {
   "cell_type": "code",
   "execution_count": null,
   "id": "a037b9db",
   "metadata": {},
   "outputs": [],
   "source": []
  },
  {
   "cell_type": "code",
   "execution_count": null,
   "id": "18760bc6",
   "metadata": {},
   "outputs": [],
   "source": []
  },
  {
   "cell_type": "code",
   "execution_count": null,
   "id": "46fb6acc",
   "metadata": {},
   "outputs": [],
   "source": []
  },
  {
   "cell_type": "code",
   "execution_count": null,
   "id": "f71d22d9",
   "metadata": {},
   "outputs": [],
   "source": []
  }
 ],
 "metadata": {
  "kernelspec": {
   "display_name": "Python 3 (ipykernel)",
   "language": "python",
   "name": "python3"
  },
  "language_info": {
   "codemirror_mode": {
    "name": "ipython",
    "version": 3
   },
   "file_extension": ".py",
   "mimetype": "text/x-python",
   "name": "python",
   "nbconvert_exporter": "python",
   "pygments_lexer": "ipython3",
   "version": "3.8.12"
  }
 },
 "nbformat": 4,
 "nbformat_minor": 5
}
